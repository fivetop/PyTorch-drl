{
 "cells": [
  {
   "cell_type": "markdown",
   "id": "16929fe2",
   "metadata": {},
   "source": [
    "# 3.2 역진자 태스크 \"CartPole\""
   ]
  },
  {
   "cell_type": "markdown",
   "id": "b6c23cc0",
   "metadata": {},
   "source": [
    "## CartPole 구현"
   ]
  },
  {
   "cell_type": "code",
   "execution_count": 1,
   "id": "055eeedd",
   "metadata": {},
   "outputs": [],
   "source": [
    "# 구현에 사용할 패키지 임포트\n",
    "import numpy as np\n",
    "import matplotlib.pyplot as plt\n",
    "%matplotlib inline\n",
    "import gym"
   ]
  },
  {
   "cell_type": "markdown",
   "id": "dbf1a369",
   "metadata": {},
   "source": [
    "### 애니메이션 만드는 함수"
   ]
  },
  {
   "cell_type": "code",
   "execution_count": 2,
   "id": "1ddbf089",
   "metadata": {},
   "outputs": [
    {
     "ename": "ModuleNotFoundError",
     "evalue": "No module named 'JSAnimation'",
     "output_type": "error",
     "traceback": [
      "\u001b[1;31m---------------------------------------------------------------------------\u001b[0m",
      "\u001b[1;31mModuleNotFoundError\u001b[0m                       Traceback (most recent call last)",
      "\u001b[1;32m~\\AppData\\Local\\Temp\\ipykernel_6084\\2442737813.py\u001b[0m in \u001b[0;36m<module>\u001b[1;34m\u001b[0m\n\u001b[1;32m----> 1\u001b[1;33m \u001b[1;32mfrom\u001b[0m \u001b[0mJSAnimation\u001b[0m\u001b[1;33m.\u001b[0m\u001b[0mIPython_display\u001b[0m \u001b[1;32mimport\u001b[0m \u001b[0mdisplay_animation\u001b[0m\u001b[1;33m\u001b[0m\u001b[1;33m\u001b[0m\u001b[0m\n\u001b[0m\u001b[0;32m      2\u001b[0m \u001b[1;32mfrom\u001b[0m \u001b[0mmatplotlib\u001b[0m \u001b[1;32mimport\u001b[0m \u001b[0manimation\u001b[0m\u001b[1;33m\u001b[0m\u001b[1;33m\u001b[0m\u001b[0m\n\u001b[0;32m      3\u001b[0m \u001b[1;32mfrom\u001b[0m \u001b[0mIPython\u001b[0m\u001b[1;33m.\u001b[0m\u001b[0mdisplay\u001b[0m \u001b[1;32mimport\u001b[0m \u001b[0mdisplay\u001b[0m\u001b[1;33m\u001b[0m\u001b[1;33m\u001b[0m\u001b[0m\n\u001b[0;32m      4\u001b[0m \u001b[1;33m\u001b[0m\u001b[0m\n\u001b[0;32m      5\u001b[0m \u001b[1;32mdef\u001b[0m \u001b[0mdisplay_frames_as_gif\u001b[0m\u001b[1;33m(\u001b[0m\u001b[0mframes\u001b[0m\u001b[1;33m)\u001b[0m\u001b[1;33m:\u001b[0m\u001b[1;33m\u001b[0m\u001b[1;33m\u001b[0m\u001b[0m\n",
      "\u001b[1;31mModuleNotFoundError\u001b[0m: No module named 'JSAnimation'"
     ]
    }
   ],
   "source": [
    "from JSAnimation.IPython_display import display_animation\n",
    "from matplotlib import animation\n",
    "from IPython.display import display\n",
    "\n",
    "def display_frames_as_gif(frames):\n",
    "    \"\"\" 프레임 목록을 gif로 표시하고 컨트롤을 사용합니다. \"\"\"\n",
    "    plt.figure(figsize=(frames[0].shape[1]/72.0, frames[0].shape[0]/72.0), dpi=72)\n",
    "    patch = plt.imshow(frames[0])\n",
    "    plt.axis('off')\n",
    "\n",
    "    def animate(i):\n",
    "        patch.set_data(frames[i])\n",
    "    \n",
    "    anim = animation.FuncAnimation(plt.gcf(), animate, frames=len(frames), interval=50)\n",
    "\n",
    "    anim.save('movie_cartpole.mp4') # 애니메이션을 저장하는 부분\n",
    "    display(display_animation(anim, default_mode='loop'))"
   ]
  },
  {
   "cell_type": "markdown",
   "id": "df6b4ea2",
   "metadata": {},
   "source": [
    "### 수레를 무작위로 움직임"
   ]
  },
  {
   "cell_type": "code",
   "execution_count": null,
   "id": "8e2e759a",
   "metadata": {},
   "outputs": [],
   "source": [
    "frames = []\n",
    "env = gym.make('CartPole-v0', render_mode='rgb_array')\n",
    "observation = env.reset()  # 먼저 환경을 초기화해야 함\n",
    "\n",
    "for step in range(0, 200):\n",
    "    frames.append(env.render())  # frames에 각 시각의 이미지를 추가한다\n",
    "    action = np.random.choice(2)  # 0(수레를 왼쪽으로), 1(수레를 오른쪽으로) 두 가지 행동을 무작위로 취함\n",
    "    observation, reward, terminated, truncated, info = env.step(action)  # action을 실행\n",
    "\n",
    "# 주의: 실행했을 때 ipykernel_launcher.p... 라는 창이 나타날 수 있지만, 무시하면 된다"
   ]
  },
  {
   "cell_type": "markdown",
   "id": "82954d9b",
   "metadata": {},
   "source": [
    "### 애니메이션을 파일로 저장하고 재상함"
   ]
  },
  {
   "cell_type": "code",
   "execution_count": null,
   "id": "9d6cf6d2",
   "metadata": {},
   "outputs": [],
   "source": [
    "display_frames_as_gif(frames)"
   ]
  }
 ],
 "metadata": {
  "kernelspec": {
   "display_name": "Python 3 (ipykernel)",
   "language": "python",
   "name": "python3"
  },
  "language_info": {
   "codemirror_mode": {
    "name": "ipython",
    "version": 3
   },
   "file_extension": ".py",
   "mimetype": "text/x-python",
   "name": "python",
   "nbconvert_exporter": "python",
   "pygments_lexer": "ipython3",
   "version": "3.9.13"
  },
  "vscode": {
   "interpreter": {
    "hash": "3cb6f83232b08b9be607b4479da9f62f5f93ddce4d1dd6d78905892566feaeac"
   }
  }
 },
 "nbformat": 4,
 "nbformat_minor": 5
}
