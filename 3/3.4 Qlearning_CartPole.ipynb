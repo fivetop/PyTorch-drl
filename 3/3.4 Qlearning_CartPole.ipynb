{
 "cells": [
  {
   "attachments": {},
   "cell_type": "markdown",
   "metadata": {},
   "source": [
    "# 3.4 Q러닝 구현"
   ]
  },
  {
   "cell_type": "code",
   "execution_count": 360,
   "metadata": {},
   "outputs": [],
   "source": [
    "# 구현에 사용할 패키지 임포트\n",
    "import numpy as np\n",
    "import matplotlib.pyplot as plt\n",
    "%matplotlib inline\n",
    "import gym    "
   ]
  },
  {
   "attachments": {},
   "cell_type": "markdown",
   "metadata": {},
   "source": [
    "### 애니메이션을 만드는 함수"
   ]
  },
  {
   "cell_type": "code",
   "execution_count": 361,
   "metadata": {},
   "outputs": [],
   "source": [
    "from JSAnimation.IPython_display import display_animation\n",
    "from matplotlib import animation\n",
    "from IPython.display import display\n",
    "\n",
    "\n",
    "def display_frames_as_gif(frames):\n",
    "    \"\"\"\n",
    "    Displays a list of frames as a gif, with controls\n",
    "    \"\"\"\n",
    "    plt.figure(figsize=(frames[0].shape[1]/72.0, frames[0].shape[0]/72.0),\n",
    "               dpi=72)\n",
    "    patch = plt.imshow(frames[0])\n",
    "    plt.axis('off')\n",
    "\n",
    "    def animate(i):\n",
    "        patch.set_data(frames[i])\n",
    "\n",
    "    anim = animation.FuncAnimation(plt.gcf(), animate, frames=len(frames),\n",
    "                                   interval=50)\n",
    "\n",
    "    anim.save('movie_cartpole1.mp4')  # 애니메이션을 저장하는 부분\n",
    "    display(display_animation(anim, default_mode='loop'))\n",
    "    "
   ]
  },
  {
   "attachments": {},
   "cell_type": "markdown",
   "metadata": {},
   "source": [
    "### 상수 정의"
   ]
  },
  {
   "cell_type": "code",
   "execution_count": 362,
   "metadata": {},
   "outputs": [],
   "source": [
    "ENV = 'CartPole-v1'  # 태스크 이름\n",
    "NUM_DIZITIZED = 6  # 각 상태를 이산변수로 변환할 구간 수\n",
    "GAMMA = 0.99  # 시간할인율\n",
    "ETA = 0.5  # 학습률\n",
    "MAX_STEPS = 200  # 1에피소드 당 최대 단계 수\n",
    "NUM_EPISODES = 1000  # 최대 에피소드 수"
   ]
  },
  {
   "attachments": {},
   "cell_type": "markdown",
   "metadata": {},
   "source": [
    "### Agent 클래스 구현"
   ]
  },
  {
   "cell_type": "code",
   "execution_count": 363,
   "metadata": {},
   "outputs": [],
   "source": [
    "class Agent:\n",
    "    '''CartPole 에이전트 역할을 할 클래스, 봉 달린 수레이다'''\n",
    "    def __init__(self, num_states, num_actions):\n",
    "        self.brain = Brain(num_states, num_actions)  # 에이전트가 행동을 결정하는 두뇌 역할\n",
    "\n",
    "    def update_Q_function(self, observation, action, reward, observation_next):\n",
    "        '''Q함수 수정'''\n",
    "        self.brain.update_Q_table(observation, action, reward, observation_next)\n",
    "\n",
    "    def get_action(self, observation, step):\n",
    "        '''다음에 취할 행동 결정'''\n",
    "        action = self.brain.decide_action(observation, step)\n",
    "        return action"
   ]
  },
  {
   "attachments": {},
   "cell_type": "markdown",
   "metadata": {},
   "source": [
    "### Brain 클래스 구현"
   ]
  },
  {
   "cell_type": "code",
   "execution_count": 364,
   "metadata": {},
   "outputs": [],
   "source": [
    "class Brain:\n",
    "    '''에이전트의 두뇌 역할을 하는 클래스, Q러닝을 실제 수행'''\n",
    "    def __init__(self, num_states, num_actions):\n",
    "        self.num_actions = num_actions  # 행동의 가짓수(왼쪽, 오른쪽)를 구함\n",
    "\n",
    "        # Q테이블을 생성. 줄 수는 상태를 구간수^4(4는 변수의 수)가지 값 중 하나로 변환한 값, 열 수는 행동의 가짓수\n",
    "        self.q_table = np.random.uniform(low=0, high=1, size=(\n",
    "            NUM_DIZITIZED**num_states, num_actions))\n",
    "\n",
    "    def bins(self, clip_min, clip_max, num):\n",
    "        '''관측된 상태(연속값)를 이산변수로 변환하는 구간을 계산'''\n",
    "        return np.linspace(clip_min, clip_max, num + 1)[1:-1]\n",
    "\n",
    "    def digitize_state(self, observation):\n",
    "        '''관측된 상태 observation을 이산변수로 변환'''\n",
    "        cart_pos, cart_v, pole_angle, pole_v = list(observation[0])\n",
    "        digitized = [\n",
    "            np.digitize(cart_pos, bins=self.bins(-2.4, 2.4, NUM_DIZITIZED)),\n",
    "            np.digitize(cart_v, bins=self.bins(-3.0, 3.0, NUM_DIZITIZED)),\n",
    "            np.digitize(pole_angle, bins=self.bins(-0.5, 0.5, NUM_DIZITIZED)),\n",
    "            np.digitize(pole_v, bins=self.bins(-2.0, 2.0, NUM_DIZITIZED))\n",
    "        ]\n",
    "        return sum([x * (NUM_DIZITIZED**i) for i, x in enumerate(digitized)])\n",
    "\n",
    "    def update_Q_table(self, observation, action, reward, observation_next):\n",
    "        '''Q러닝으로 Q테이블을 수정'''\n",
    "        state = self.digitize_state(observation)  # 상태를 이산변수로 변환\n",
    "        state_next = self.digitize_state(observation_next)  # 다음 상태를 이산변수로 변환\n",
    "        Max_Q_next = max(self.q_table[state_next][:])\n",
    "        self.q_table[state, action] = self.q_table[state, action] + \\\n",
    "            ETA * (reward + GAMMA * Max_Q_next - self.q_table[state, action])\n",
    "\n",
    "    def decide_action(self, observation, episode):\n",
    "        '''ε-greedy 알고리즘을 적용하여 서서히 최적행동의 비중을 늘림'''\n",
    "        state = self.digitize_state(observation)\n",
    "        epsilon = 0.5 * (1 / (episode + 1))\n",
    "\n",
    "        if epsilon <= np.random.uniform(0, 1):\n",
    "            action = np.argmax(self.q_table[state][:])\n",
    "        else:\n",
    "            action = np.random.choice(self.num_actions)  # 0,1 두 가지 행동 중 하나를 무작위로 선택\n",
    "        return action"
   ]
  },
  {
   "attachments": {},
   "cell_type": "markdown",
   "metadata": {},
   "source": [
    "### Environment 클래스 구현"
   ]
  },
  {
   "cell_type": "code",
   "execution_count": 365,
   "metadata": {},
   "outputs": [],
   "source": [
    "class Environment:\n",
    "    '''CartPole을 실행하는 환경 역할을 하는 클래스'''\n",
    "    def __init__(self):\n",
    "        self.env = gym.make(ENV)  # 실행할 태스크를 설정\n",
    "        num_states = self.env.observation_space.shape[0]  # 태스크의 상태 변수 수를 구함\n",
    "        num_actions = self.env.action_space.n  # 가능한 행동 수를 구함\n",
    "        self.agent = Agent(num_states, num_actions)  # 에이전트 객체를 생성\n",
    "\n",
    "    def run(self):\n",
    "        '''실행'''\n",
    "        complete_episodes = 0  # 성공한(195단계 이상 버틴) 에피소드 수\n",
    "        is_episode_final = False  # 마지막 에피소드 여부\n",
    "        frames = []  # 애니메이션을 만드는데 사용할 이미지를 저장하는 변수\n",
    "\n",
    "        for episode in range(NUM_EPISODES):  # 에피소드 수 만큼 반복\n",
    "            observation = self.env.reset()  # 환경 초기화\n",
    "\n",
    "            for step in range(MAX_STEPS):  # 1 에피소드에 해당하는 반복\n",
    "\n",
    "                if is_episode_final is True:  # 마지막 에피소드이면 frames에 각 단계의 이미지를 저장\n",
    "                    frames.append(self.env.render(mode='rgb_array'))\n",
    "\n",
    "                # 행동을 선택\n",
    "                action = self.agent.get_action(observation, episode)\n",
    "\n",
    "                # 행동 a_t를 실행하여 s_{t+1}, r_{t+1}을 계산\n",
    "                observation_next, _,done, done, _ = self.env.step(action)  # reward, info는 사용하지 않으므로 _로 처리함\n",
    "\n",
    "                # 보상을 부여\n",
    "                if done:  # 200단계를 넘어서거나 일정 각도 이상 기울면 done의 값이 True가 됨\n",
    "                    if step < 195:\n",
    "                        reward = -1  # 봉이 쓰러지면 페널티로 보상 -1 부여\n",
    "                        complete_episodes = 0  # 195단계 이상 버티면 해당 에피소드를 성공 처리\n",
    "                    else:\n",
    "                        reward = 1  # 쓰러지지 않고 에피소드를 끝내면 보상 1 부여\n",
    "                        complete_episodes += 1  # 에피소드 연속 성공 기록을 업데이트\n",
    "                else:\n",
    "                    reward = 0  # 에피소드 중에는 보상이 0\n",
    "\n",
    "                # 다음 단계의 상태 observation_next로 Q함수를 수정\n",
    "                self.agent.update_Q_function(observation, action, reward, observation_next)\n",
    "\n",
    "                # 다음 단계 상태 관측\n",
    "                observation = observation_next\n",
    "\n",
    "                # 에피소드 마무리\n",
    "                if done:\n",
    "                    print('{0} Episode: Finished after {1} time steps'.format(\n",
    "                        episode, step + 1))\n",
    "                    break\n",
    "\n",
    "            if is_episode_final is True:  # 마지막 에피소드에서는 애니메이션을 만들고 저장\n",
    "                display_frames_as_gif(frames)\n",
    "                break\n",
    "\n",
    "            if complete_episodes >= 10:  # 10 에피소드 연속으로 성공한 경우\n",
    "                print('10 에피소드 연속 성공')\n",
    "                is_episode_final = True  # 다음 에피소드가 마지막 에피소드가 됨                "
   ]
  },
  {
   "attachments": {},
   "cell_type": "markdown",
   "metadata": {},
   "source": [
    "### main"
   ]
  },
  {
   "cell_type": "code",
   "execution_count": 366,
   "metadata": {},
   "outputs": [
    {
     "ename": "TypeError",
     "evalue": "'numpy.float32' object is not iterable",
     "output_type": "error",
     "traceback": [
      "\u001b[1;31m---------------------------------------------------------------------------\u001b[0m",
      "\u001b[1;31mTypeError\u001b[0m                                 Traceback (most recent call last)",
      "\u001b[1;32m<ipython-input-366-7dfab0e69a06>\u001b[0m in \u001b[0;36m<module>\u001b[1;34m\u001b[0m\n\u001b[0;32m      1\u001b[0m \u001b[0mcartpole_env\u001b[0m \u001b[1;33m=\u001b[0m \u001b[0mEnvironment\u001b[0m\u001b[1;33m(\u001b[0m\u001b[1;33m)\u001b[0m\u001b[1;33m\u001b[0m\u001b[1;33m\u001b[0m\u001b[0m\n\u001b[1;32m----> 2\u001b[1;33m \u001b[0mcartpole_env\u001b[0m\u001b[1;33m.\u001b[0m\u001b[0mrun\u001b[0m\u001b[1;33m(\u001b[0m\u001b[1;33m)\u001b[0m\u001b[1;33m\u001b[0m\u001b[1;33m\u001b[0m\u001b[0m\n\u001b[0m",
      "\u001b[1;32m<ipython-input-365-88ea20db202f>\u001b[0m in \u001b[0;36mrun\u001b[1;34m(self)\u001b[0m\n\u001b[0;32m     39\u001b[0m \u001b[1;33m\u001b[0m\u001b[0m\n\u001b[0;32m     40\u001b[0m                 \u001b[1;31m# 다음 단계의 상태 observation_next로 Q함수를 수정\u001b[0m\u001b[1;33m\u001b[0m\u001b[1;33m\u001b[0m\u001b[1;33m\u001b[0m\u001b[0m\n\u001b[1;32m---> 41\u001b[1;33m                 \u001b[0mself\u001b[0m\u001b[1;33m.\u001b[0m\u001b[0magent\u001b[0m\u001b[1;33m.\u001b[0m\u001b[0mupdate_Q_function\u001b[0m\u001b[1;33m(\u001b[0m\u001b[0mobservation\u001b[0m\u001b[1;33m,\u001b[0m \u001b[0maction\u001b[0m\u001b[1;33m,\u001b[0m \u001b[0mreward\u001b[0m\u001b[1;33m,\u001b[0m \u001b[0mobservation_next\u001b[0m\u001b[1;33m)\u001b[0m\u001b[1;33m\u001b[0m\u001b[1;33m\u001b[0m\u001b[0m\n\u001b[0m\u001b[0;32m     42\u001b[0m \u001b[1;33m\u001b[0m\u001b[0m\n\u001b[0;32m     43\u001b[0m                 \u001b[1;31m# 다음 단계 상태 관측\u001b[0m\u001b[1;33m\u001b[0m\u001b[1;33m\u001b[0m\u001b[1;33m\u001b[0m\u001b[0m\n",
      "\u001b[1;32m<ipython-input-363-eb23ea93d6d1>\u001b[0m in \u001b[0;36mupdate_Q_function\u001b[1;34m(self, observation, action, reward, observation_next)\u001b[0m\n\u001b[0;32m      6\u001b[0m     \u001b[1;32mdef\u001b[0m \u001b[0mupdate_Q_function\u001b[0m\u001b[1;33m(\u001b[0m\u001b[0mself\u001b[0m\u001b[1;33m,\u001b[0m \u001b[0mobservation\u001b[0m\u001b[1;33m,\u001b[0m \u001b[0maction\u001b[0m\u001b[1;33m,\u001b[0m \u001b[0mreward\u001b[0m\u001b[1;33m,\u001b[0m \u001b[0mobservation_next\u001b[0m\u001b[1;33m)\u001b[0m\u001b[1;33m:\u001b[0m\u001b[1;33m\u001b[0m\u001b[1;33m\u001b[0m\u001b[0m\n\u001b[0;32m      7\u001b[0m         \u001b[1;34m'''Q함수 수정'''\u001b[0m\u001b[1;33m\u001b[0m\u001b[1;33m\u001b[0m\u001b[0m\n\u001b[1;32m----> 8\u001b[1;33m         \u001b[0mself\u001b[0m\u001b[1;33m.\u001b[0m\u001b[0mbrain\u001b[0m\u001b[1;33m.\u001b[0m\u001b[0mupdate_Q_table\u001b[0m\u001b[1;33m(\u001b[0m\u001b[0mobservation\u001b[0m\u001b[1;33m,\u001b[0m \u001b[0maction\u001b[0m\u001b[1;33m,\u001b[0m \u001b[0mreward\u001b[0m\u001b[1;33m,\u001b[0m \u001b[0mobservation_next\u001b[0m\u001b[1;33m)\u001b[0m\u001b[1;33m\u001b[0m\u001b[1;33m\u001b[0m\u001b[0m\n\u001b[0m\u001b[0;32m      9\u001b[0m \u001b[1;33m\u001b[0m\u001b[0m\n\u001b[0;32m     10\u001b[0m     \u001b[1;32mdef\u001b[0m \u001b[0mget_action\u001b[0m\u001b[1;33m(\u001b[0m\u001b[0mself\u001b[0m\u001b[1;33m,\u001b[0m \u001b[0mobservation\u001b[0m\u001b[1;33m,\u001b[0m \u001b[0mstep\u001b[0m\u001b[1;33m)\u001b[0m\u001b[1;33m:\u001b[0m\u001b[1;33m\u001b[0m\u001b[1;33m\u001b[0m\u001b[0m\n",
      "\u001b[1;32m<ipython-input-364-98b6277d3a4f>\u001b[0m in \u001b[0;36mupdate_Q_table\u001b[1;34m(self, observation, action, reward, observation_next)\u001b[0m\n\u001b[0;32m     26\u001b[0m         \u001b[1;34m'''Q러닝으로 Q테이블을 수정'''\u001b[0m\u001b[1;33m\u001b[0m\u001b[1;33m\u001b[0m\u001b[0m\n\u001b[0;32m     27\u001b[0m         \u001b[0mstate\u001b[0m \u001b[1;33m=\u001b[0m \u001b[0mself\u001b[0m\u001b[1;33m.\u001b[0m\u001b[0mdigitize_state\u001b[0m\u001b[1;33m(\u001b[0m\u001b[0mobservation\u001b[0m\u001b[1;33m)\u001b[0m  \u001b[1;31m# 상태를 이산변수로 변환\u001b[0m\u001b[1;33m\u001b[0m\u001b[1;33m\u001b[0m\u001b[0m\n\u001b[1;32m---> 28\u001b[1;33m         \u001b[0mstate_next\u001b[0m \u001b[1;33m=\u001b[0m \u001b[0mself\u001b[0m\u001b[1;33m.\u001b[0m\u001b[0mdigitize_state\u001b[0m\u001b[1;33m(\u001b[0m\u001b[0mobservation_next\u001b[0m\u001b[1;33m)\u001b[0m  \u001b[1;31m# 다음 상태를 이산변수로 변환\u001b[0m\u001b[1;33m\u001b[0m\u001b[1;33m\u001b[0m\u001b[0m\n\u001b[0m\u001b[0;32m     29\u001b[0m         \u001b[0mMax_Q_next\u001b[0m \u001b[1;33m=\u001b[0m \u001b[0mmax\u001b[0m\u001b[1;33m(\u001b[0m\u001b[0mself\u001b[0m\u001b[1;33m.\u001b[0m\u001b[0mq_table\u001b[0m\u001b[1;33m[\u001b[0m\u001b[0mstate_next\u001b[0m\u001b[1;33m]\u001b[0m\u001b[1;33m[\u001b[0m\u001b[1;33m:\u001b[0m\u001b[1;33m]\u001b[0m\u001b[1;33m)\u001b[0m\u001b[1;33m\u001b[0m\u001b[1;33m\u001b[0m\u001b[0m\n\u001b[0;32m     30\u001b[0m         \u001b[0mself\u001b[0m\u001b[1;33m.\u001b[0m\u001b[0mq_table\u001b[0m\u001b[1;33m[\u001b[0m\u001b[0mstate\u001b[0m\u001b[1;33m,\u001b[0m \u001b[0maction\u001b[0m\u001b[1;33m]\u001b[0m \u001b[1;33m=\u001b[0m \u001b[0mself\u001b[0m\u001b[1;33m.\u001b[0m\u001b[0mq_table\u001b[0m\u001b[1;33m[\u001b[0m\u001b[0mstate\u001b[0m\u001b[1;33m,\u001b[0m \u001b[0maction\u001b[0m\u001b[1;33m]\u001b[0m \u001b[1;33m+\u001b[0m\u001b[0;31m \u001b[0m\u001b[0;31m\\\u001b[0m\u001b[1;33m\u001b[0m\u001b[1;33m\u001b[0m\u001b[0m\n",
      "\u001b[1;32m<ipython-input-364-98b6277d3a4f>\u001b[0m in \u001b[0;36mdigitize_state\u001b[1;34m(self, observation)\u001b[0m\n\u001b[0;32m     14\u001b[0m     \u001b[1;32mdef\u001b[0m \u001b[0mdigitize_state\u001b[0m\u001b[1;33m(\u001b[0m\u001b[0mself\u001b[0m\u001b[1;33m,\u001b[0m \u001b[0mobservation\u001b[0m\u001b[1;33m)\u001b[0m\u001b[1;33m:\u001b[0m\u001b[1;33m\u001b[0m\u001b[1;33m\u001b[0m\u001b[0m\n\u001b[0;32m     15\u001b[0m         \u001b[1;34m'''관측된 상태 observation을 이산변수로 변환'''\u001b[0m\u001b[1;33m\u001b[0m\u001b[1;33m\u001b[0m\u001b[0m\n\u001b[1;32m---> 16\u001b[1;33m         \u001b[0mcart_pos\u001b[0m\u001b[1;33m,\u001b[0m \u001b[0mcart_v\u001b[0m\u001b[1;33m,\u001b[0m \u001b[0mpole_angle\u001b[0m\u001b[1;33m,\u001b[0m \u001b[0mpole_v\u001b[0m \u001b[1;33m=\u001b[0m \u001b[0mlist\u001b[0m\u001b[1;33m(\u001b[0m\u001b[0mobservation\u001b[0m\u001b[1;33m[\u001b[0m\u001b[1;36m0\u001b[0m\u001b[1;33m]\u001b[0m\u001b[1;33m)\u001b[0m\u001b[1;33m\u001b[0m\u001b[1;33m\u001b[0m\u001b[0m\n\u001b[0m\u001b[0;32m     17\u001b[0m         digitized = [\n\u001b[0;32m     18\u001b[0m             \u001b[0mnp\u001b[0m\u001b[1;33m.\u001b[0m\u001b[0mdigitize\u001b[0m\u001b[1;33m(\u001b[0m\u001b[0mcart_pos\u001b[0m\u001b[1;33m,\u001b[0m \u001b[0mbins\u001b[0m\u001b[1;33m=\u001b[0m\u001b[0mself\u001b[0m\u001b[1;33m.\u001b[0m\u001b[0mbins\u001b[0m\u001b[1;33m(\u001b[0m\u001b[1;33m-\u001b[0m\u001b[1;36m2.4\u001b[0m\u001b[1;33m,\u001b[0m \u001b[1;36m2.4\u001b[0m\u001b[1;33m,\u001b[0m \u001b[0mNUM_DIZITIZED\u001b[0m\u001b[1;33m)\u001b[0m\u001b[1;33m)\u001b[0m\u001b[1;33m,\u001b[0m\u001b[1;33m\u001b[0m\u001b[1;33m\u001b[0m\u001b[0m\n",
      "\u001b[1;31mTypeError\u001b[0m: 'numpy.float32' object is not iterable"
     ]
    }
   ],
   "source": [
    "cartpole_env = Environment()\n",
    "cartpole_env.run()"
   ]
  }
 ],
 "metadata": {
  "kernelspec": {
   "display_name": "rl_env",
   "language": "python",
   "name": "python3"
  },
  "language_info": {
   "codemirror_mode": {
    "name": "ipython",
    "version": 3
   },
   "file_extension": ".py",
   "mimetype": "text/x-python",
   "name": "python",
   "nbconvert_exporter": "python",
   "pygments_lexer": "ipython3",
   "version": "3.6.13 |Anaconda, Inc.| (default, Mar 16 2021, 11:37:27) [MSC v.1916 64 bit (AMD64)]"
  },
  "orig_nbformat": 4,
  "vscode": {
   "interpreter": {
    "hash": "3cb6f83232b08b9be607b4479da9f62f5f93ddce4d1dd6d78905892566feaeac"
   }
  }
 },
 "nbformat": 4,
 "nbformat_minor": 2
}
