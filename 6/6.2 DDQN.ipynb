{
 "cells": [
  {
   "attachments": {},
   "cell_type": "markdown",
   "metadata": {},
   "source": [
    "# 6.2 DDQN 구현"
   ]
  },
  {
   "cell_type": "code",
   "execution_count": 6,
   "metadata": {},
   "outputs": [],
   "source": [
    "# 구현에 사용할 패키지 임포트\n",
    "import numpy as np\n",
    "import matplotlib.pyplot as plt\n",
    "import random\n",
    "%matplotlib inline\n",
    "import gym"
   ]
  },
  {
   "attachments": {},
   "cell_type": "markdown",
   "metadata": {},
   "source": [
    "### 애니메이션을 만드는 함수"
   ]
  },
  {
   "cell_type": "code",
   "execution_count": 2,
   "metadata": {},
   "outputs": [],
   "source": [
    "from JSAnimation.IPython_display import display_animation\n",
    "from matplotlib import animation\n",
    "from IPython.display import display\n",
    "\n",
    "def display_frames_as_gif(frames):\n",
    "    \"\"\"\n",
    "    Displays a list of frames as a gif, with controls\n",
    "    \"\"\"\n",
    "    plt.figure(figsize=(frames[0].shape[1] / 72.0, frames[0].shape[0] / 72.0), dpi=72)\n",
    "    patch = plt.imshow(frames[0])\n",
    "    plt.axis('off')\n",
    "\n",
    "    def animate(i):\n",
    "        patch.set_data(frames[i])\n",
    "\n",
    "    anim = animation.FuncAnimation(plt.gcf(), animate, frames=len(frames), interval=50)\n",
    "    anim.save('movie_cartpole_DDQN.mp4')\n",
    "    display(display_animation(anim, default_mode='loop'))"
   ]
  },
  {
   "attachments": {},
   "cell_type": "markdown",
   "metadata": {},
   "source": [
    "### nametuple 생성"
   ]
  },
  {
   "cell_type": "code",
   "execution_count": 3,
   "metadata": {},
   "outputs": [],
   "source": [
    "from collections import namedtuple\n",
    "\n",
    "Transition = namedtuple('Transition', ('state', 'action', 'next_state', 'reward'))"
   ]
  },
  {
   "attachments": {},
   "cell_type": "markdown",
   "metadata": {},
   "source": [
    "### 상수 정의"
   ]
  },
  {
   "cell_type": "code",
   "execution_count": 4,
   "metadata": {},
   "outputs": [],
   "source": [
    "ENV = 'CartPole-v0'  # 태스크 이름\n",
    "GAMMA = 0.99  # 시간할인율\n",
    "MAX_STEPS = 200  # 1에피소드 당 최대 단계 수\n",
    "NUM_EPISODES = 500  # 최대 에피소드 수"
   ]
  },
  {
   "attachments": {},
   "cell_type": "markdown",
   "metadata": {},
   "source": [
    "### Transition을 저장하기 위한 메모리 클래스"
   ]
  },
  {
   "cell_type": "code",
   "execution_count": 5,
   "metadata": {},
   "outputs": [],
   "source": [
    "class ReplayMemory:\n",
    "    def __init__(self, CAPACITY):\n",
    "        self.capacity = CAPACITY # 메모리의 최대 저장 건수\n",
    "        self.memory = [] # 실제 transition을 저장할 변수\n",
    "        self.index = 0 # 저장 위치를 가리킬 인덱스 변수\n",
    "    \n",
    "    def push(self, state, action, state_next, reward):\n",
    "        '''Transition = (state, action, state_next, reward)을 메모리에 저장'''\n",
    "        if len(self.memory) < self.capacity:\n",
    "            self.memory.append(None) # 메모리가 가득차지 않은 경우\n",
    "        # Transition이라는 nametuple을 사용하여 키-값 쌍의 형태로 값을 저장\n",
    "        self.memory[self.index] = Transition(state, action, state_next, reward)\n",
    "        # 다음 저장할 위치를 한 자리 뒤로 수정\n",
    "        self.index = (self.index + 1) % self.capacity\n",
    "\n",
    "    def sample(self, batch_size):\n",
    "        '''batch_size 갯수 만큼 무작위로 저장된 transition을 추출'''\n",
    "        return random.sample(self.memory, batch_size)\n",
    "\n",
    "    def __len__(self):\n",
    "        '''len 함수로 현재 저장된 transition 갯수를 반환'''\n",
    "        return len(self.memory)"
   ]
  },
  {
   "attachments": {},
   "cell_type": "markdown",
   "metadata": {},
   "source": [
    "### 신경망 구성"
   ]
  },
  {
   "cell_type": "code",
   "execution_count": 8,
   "metadata": {},
   "outputs": [],
   "source": [
    "import torch.nn as nn\n",
    "import torch.nn.functional as F\n",
    "\n",
    "class Net(nn.Module):\n",
    "    def __init__(self, n_in, n_mid, n_out):\n",
    "        super(Net, self).__init__()\n",
    "        self.fc1 = nn.Linear(n_in, n_mid)\n",
    "        self.fc2 = nn.Linear(n_mid, n_mid)\n",
    "        self.fc3 = nn.Linear(n_mid, n_out)\n",
    "\n",
    "    def forward(self, x):\n",
    "        h1 = F.relu(self.fc1(x))\n",
    "        h2 = F.relu(self.fc2(h1))\n",
    "        output = self.fc3(h2)\n",
    "        return output"
   ]
  },
  {
   "attachments": {},
   "cell_type": "markdown",
   "metadata": {},
   "source": [
    "### 에이전트의 두뇌 역할을 하는 클래스, DDQN을 실제 수행한다."
   ]
  },
  {
   "cell_type": "code",
   "execution_count": 12,
   "metadata": {},
   "outputs": [],
   "source": [
    "import random\n",
    "import torch\n",
    "from torch import nn\n",
    "from torch import optim\n",
    "import torch.nn.functional as F\n",
    "\n",
    "BATCH_SIZE = 32\n",
    "CAPACITY = 10000\n",
    "\n",
    "class Brain:\n",
    "    def __init__(self, num_states, num_actions):\n",
    "        self.num_actions = num_actions # 행동의 가짓수(왼쪽, 오른쪽)을 구함\n",
    "       \n",
    "        # transition을 기억하기 위한 메모리 객체 생성\n",
    "        self.memory = ReplayMemory(CAPACITY)      \n",
    "\n",
    "        # 신경망구성\n",
    "        n_in, n_mid, n_out = num_states, 32, num_actions\n",
    "        self.main_q_network = Net(n_in, n_mid, n_out) # Net 클래스 사용\n",
    "        self.target_q_network = Net(n_in, n_mid, n_out)\n",
    "        print(self.main_q_network) # 신경망의 구조를 출력\n",
    "\n",
    "        # 최적화 기법 선택\n",
    "        self.optimizer = optim.Adam(self.main_q_network.parameters(), lr=0.0001)\n",
    "\n",
    "    def replay(self):\n",
    "        '''Experience Replay로 신경망의 결합 가중치 학습'''\n",
    "\n",
    "        # 1. 저장된 transition의 수를 확인\n",
    "        if len(self.memory) < BATCH_SIZE:\n",
    "            return \n",
    "\n",
    "        # 2. 미니 배치 생성\n",
    "        self.batch, self.state_batch, self.action_batch, self.reward_batch, self.non_final_next_states = self.make_minibatch()\n",
    "\n",
    "        # 3. 정답신호로 사용할 Q(s_t, a_t)를 계산\n",
    "        self.expected_state_action_values = self.get_expected_state_action_values()\n",
    "\n",
    "        # 4. 결합 가중치 수정\n",
    "        self.update_main_q_network()\n",
    "\n",
    "    def decide_action(self, state, episode):\n",
    "        '''현재 상태로부터 행동을 결정함'''\n",
    "        # ε-greedy 알고리즘에서 서서히 최적행동의 비중을 늘린다\n",
    "        epsilon = 0.5 * (1 / (episode + 1))\n",
    "\n",
    "        if epsilon <= np.random.uniform(0, 1):\n",
    "            self.main_q_network.eval() # 신경망을 추론 모드로 전환\n",
    "            with torch.no_grad():\n",
    "                action = self.main_q_network(state).max(1)[1].view(1,1)\n",
    "            # 신경망 출력의 최댓값에 대한 인덱스 = max(1)[1]\n",
    "            # .view(1,1)은 [torch.LongTensor of size 1] 을 size 1*1로 변환하는 역할을 한다\n",
    "        else:\n",
    "            # 행동을 무작위로 반환(0 혹은 1)\n",
    "            action = torch.LongTensor([[random.randrange(self.num_actions)]])\n",
    "            # action은 [torch.LongTensor of size 1*1] 형태가 된다\n",
    "        return action\n",
    "    \n",
    "    def make_minibatch(self):\n",
    "        '''2. 미니배치 생성'''\n",
    "        # 2.1 메모리 객체에서 미니배치를 추출\n",
    "        transitions = self.memory.sample(BATCH_SIZE)\n",
    "\n",
    "        # 2.2 각 변수를 미니배치에 맞는 형태로 변형\n",
    "        # transitions는 각 단계 별로 (state, action, state_next, reward) 형태로 BATCH_SIZE 갯수만큼 저장됨\n",
    "        # 다시 말해, (state, action, state_next, reward) * BATCH_SIZE 형태가 된다\n",
    "        # 이것을 미니배치로 만들기 위해\n",
    "        # (state*BATCH_SIZE, action*BATCH_SIZE, state_next*BATCH_SIZE, reward*BATCH_SIZE) 형태로 변환한다\n",
    "        batch = Transition(*zip(*transitions))\n",
    "\n",
    "        # 2.3 각 변수의 요소를 미니배치에 맞게 변형하고, 신경망으로 다룰 수 있도록 Variable로 만든다\n",
    "        # state를 예로 들면, [torch.FloatTensor of size 1*4] 형태의 요소가 BATCH_SIZE 갯수만큼 있는 형태이다\n",
    "        # 이를 torch.FloatTensor of size BATCH_SIZE*4 형태로 변형한다\n",
    "        # 상태, 행동, 보상, non_final 상태로 된 미니배치를 나타내는 Variable을 생성\n",
    "        # cat은 Concatenates(연접)을 의미한다\n",
    "        state_batch = torch.cat(batch.state)\n",
    "        action_batch = torch.cat(batch.action)\n",
    "        reward_batch = torch.cat(batch.reward)\n",
    "        non_final_next_states = torch.cat([s for s in batch.next_state if s is not None])\n",
    "\n",
    "        return batch, state_batch, action_batch, reward_batch, non_final_next_states\n",
    "\n",
    "    def get_expected_state_action_values(self):\n",
    "        '''정답신호로 사용할 Q(s_t, a_t)를 계산'''\n",
    "\n",
    "        # 3.1 신경망을 추론 모드로 전환\n",
    "        self.main_q_network.eval()\n",
    "        self.target_q_network.eval()\n",
    "\n",
    "        # 3.2 신경망으로 Q(s_t, a_t)를 계산\n",
    "        # self.model(state_batch)은 왼쪽, 오른쪽에 대한 Q값을 출력하며\n",
    "        # [torch.FloatTensor of size BATCH_SIZEx2] 형태이다\n",
    "        # 여기서부터는 실행한 행동 a_t에 대한 Q값을 계산하므로 action_batch에서 취한 행동 a_t가 \n",
    "        # 왼쪽이냐 오른쪽이냐에 대한 인덱스를 구하고, 이에 대한 Q값을 gather 메서드로 모아온다\n",
    "        self.state_action_values = self.main_q_network(self.state_batch).gather(1, self.action_batch)\n",
    "\n",
    "        # 3.3 max{Q(s_t+1, a)}값을 계산한다 이때 다음 상태가 존재하는지에 주의해야 한다\n",
    "\n",
    "        # cartpole이 done 상태가 아니고, next_state가 존재하는지 확인하는 인덱스 마스크를 만듬\n",
    "        non_final_mask = torch.ByteTensor(tuple(map(lambda s : s is not None, self.batch.next_state)))\n",
    "\n",
    "        # 먼저 전체를 0으로 초기화\n",
    "        next_state_values = torch.zeros(BATCH_SIZE)\n",
    "\n",
    "        a_m = torch.zeros(BATCH_SIZE).type(torch.LongTensor)\n",
    "\n",
    "        # 다음 상태에서 Q값이 최대가 되는 행동 a_m을 Main Q-Network로 계산\n",
    "        # 마지막에 붙은 [1]로 행동에 해당하는 인덱스를 구함\n",
    "        a_m[non_final_mask] = self.main_q_network(self.non_final_next_states).detach().max(1)[1]\n",
    "\n",
    "        # 다음 상태가 있는 것만을 걸러내고, size 32를 32*1로 변환\n",
    "        a_m_non_final_next_states = a_m[non_final_mask].view(-1,1)\n",
    "\n",
    "        # 다음 상태가 있는 인덱스에 대해 행동 a_m_의 Q값을 target Q_Network로 계산\n",
    "        # detach() 메서드로 값을 꺼내옴\n",
    "        # squeeze() 메서드로 size[minibatch*1]을 [minibatch]로 변환\n",
    "        next_state_values[non_final_mask] = self.target_q_network(self.non_final_next_states).gather(1, a_m_non_final_next_states).detach().squeeze()\n",
    "\n",
    "        # 3.4 정답 신호로 사용할 Q(s_t, a_t)값을 Q러닝 식으로 계산한다\n",
    "        expected_state_action_values = self.reward_batch + GAMMA * next_state_values\n",
    "\n",
    "        return expected_state_action_values\n",
    "\n",
    "    def update_main_q_network(self):\n",
    "        '''4. 결합 가중치 수정'''\n",
    "\n",
    "        # 4.1 신경망을 학습 모드로 전환\n",
    "        self.main_q_network.train()\n",
    "\n",
    "        # 4.2 손실함수를 계산 (smooth_l1_loss는 Huber 함수)\n",
    "        # expected_state_action_values은 size가 [minibatch]이므로 unsqueeze하여 [minibatch*1]로 만든다\n",
    "        loss = F.smooth_l1_loss(self.state_action_values, self.expected_state_action_values.unsqueeze(1))\n",
    "\n",
    "        # 4.3 결합 가중치를 수정한다\n",
    "        self.optimizer.zero_grad() # 경사를 초기화\n",
    "        loss.backward() # 역전파 계산\n",
    "        self.optimizer.step() # 결합 가중치 수정\n",
    "\n",
    "    def update_target_q_network(self): # DDQN에서 추가됨\n",
    "        '''Target Q-Network을 Main Q-Network와 맞춤'''\n",
    "        self.target_q_network.load_state_dict(self.main_q_network.state_dict())\n",
    "    "
   ]
  },
  {
   "attachments": {},
   "cell_type": "markdown",
   "metadata": {},
   "source": [
    "### CartPole 태스크의 에이전트 클래스"
   ]
  },
  {
   "cell_type": "code",
   "execution_count": 15,
   "metadata": {},
   "outputs": [],
   "source": [
    "class Agent:\n",
    "    def __init__(self, num_states, num_actions):\n",
    "        '''태스크의 상태 및 행동의 가짓수를 설정'''\n",
    "        self.brain = Brain(num_states, num_actions) # 에이전트의 행동을 결정할 두뇌 역할 객체를 생성\n",
    "\n",
    "    def update_q_function(self):\n",
    "        '''Q함수를 수정'''\n",
    "        self.brain.replay()\n",
    "\n",
    "    def get_action(self, state, episode):\n",
    "        '''행동을 결정'''\n",
    "        action = self.brain.decide_action(state, episode)\n",
    "        return action\n",
    "    \n",
    "    def memorize(self, state, action, state_next, reward):\n",
    "        '''memory 객체에 state, action, state_next, reward 내용을 저장'''\n",
    "        self.brain.memory.push(state, action, state_next, reward)\n",
    "\n",
    "    def update_target_q_function(self):\n",
    "        '''Target Q-Network을 Main Q-Network와 맞춤'''\n",
    "        self.brain.update_target_q_network()"
   ]
  },
  {
   "attachments": {},
   "cell_type": "markdown",
   "metadata": {},
   "source": [
    "### CartPole을 실행하는 환경 클래스"
   ]
  },
  {
   "cell_type": "code",
   "execution_count": 23,
   "metadata": {},
   "outputs": [],
   "source": [
    "class Environment:\n",
    "\n",
    "    def __init__(self):\n",
    "        self.env = gym.make(ENV)  # 태스크를 설정\n",
    "        num_states = self.env.observation_space.shape[0]  # 태스크의 상태 변수 수(4)를 받아옴\n",
    "        num_actions = self.env.action_space.n  # 태스크의 행동 가짓수(2)를 받아옴\n",
    "        self.agent = Agent(num_states, num_actions)  # 에이전트 역할을 할 객체를 생성\n",
    "\n",
    "    def run(self):\n",
    "        '''실행'''\n",
    "        episode_10_list = np.zeros(10)  # 최근 10에피소드 동안 버틴 단계 수를 저장함(평균 단계 수를 출력할 때 사용)\n",
    "        complete_episodes = 0  # 현재까지 195단계를 버틴 에피소드 수\n",
    "        episode_final = False  # 마지막 에피소드 여부\n",
    "        frames = []  # 애니메이션을 만들기 위해 마지막 에피소드의 프레임을 저장할 배열\n",
    "\n",
    "        for episode in range(NUM_EPISODES):  # 최대 에피소드 수만큼 반복\n",
    "            observation = self.env.reset()  # 환경 초기화\n",
    "\n",
    "            state = observation  # 관측을 변환없이 그대로 상태 s로 사용\n",
    "            state = torch.from_numpy(state).type(torch.FloatTensor)  # NumPy 변수를 파이토치 텐서로 변환\n",
    "            state = torch.unsqueeze(state, 0)  # size 4를 size 1*4로 변환\n",
    "\n",
    "            for step in range(MAX_STEPS):  # 1 에피소드에 해당하는 반복문\n",
    "                    \n",
    "                action = self.agent.get_action(state, episode)  # 다음 행동을 결정\n",
    "\n",
    "                # 행동 a_t를 실행하여 다음 상태 s_{t+1}과 done 플래그 값을 결정\n",
    "                # action에 .item()을 호출하여 행동 내용을 구함\n",
    "                observation_next, _, done, _ = self.env.step(action.item())  # reward와 info는 사용하지 않으므로 _로 처리\n",
    "\n",
    "                # 보상을 부여하고 episode의 종료 판정 및 state_next를 설정한다\n",
    "                if done:  # 단계 수가 200을 넘었거나 봉이 일정 각도 이상 기울면 done이 True가 됨\n",
    "                    state_next = None  # 다음 상태가 없으므로 None으로\n",
    "\n",
    "                    # 최근 10 에피소드에서 버틴 단계 수를 리스트에 저장\n",
    "                    episode_10_list = np.hstack(\n",
    "                        (episode_10_list[1:], step + 1))\n",
    "\n",
    "                    if step < 195:\n",
    "                        reward = torch.FloatTensor(\n",
    "                            [-1.0])  # 도중에 봉이 쓰러졌다면 페널티로 보상 -1을 부여\n",
    "                        complete_episodes = 0  # 연속 성공 에피소드 기록을 초기화\n",
    "                    else:\n",
    "                        reward = torch.FloatTensor([1.0])  # 봉이 서 있는 채로 에피소드를 마쳤다면 보상 1 부여\n",
    "                        complete_episodes = complete_episodes + 1  # 연속 성공 에피소드 기록을 갱신\n",
    "                else:\n",
    "                    reward = torch.FloatTensor([0.0])  # 그 외의 경우는 보상 0을 부여\n",
    "                    state_next = observation_next  # 관측 결과를 그대로 상태로 사용\n",
    "                    state_next = torch.from_numpy(state_next).type(torch.FloatTensor)  # numpy 변수를 파이토치 텐서로 변환\n",
    "                    state_next = torch.unsqueeze(state_next, 0)  # size 4를 size 1*4로 변환\n",
    "\n",
    "                # 메모리에 경험을 저장\n",
    "                self.agent.memorize(state, action, state_next, reward)\n",
    "\n",
    "                # Experience Replay로 Q함수를 수정\n",
    "                self.agent.update_q_function()\n",
    "\n",
    "                # 관측 결과를 업데이트\n",
    "                state = state_next\n",
    "\n",
    "                # 에피소드 종료 처리\n",
    "                if done:\n",
    "                    print('%d Episode: Finished after %d steps：최근 10 에피소드의 평균 단계 수 = %.1lf' % (\n",
    "                        episode, step + 1, episode_10_list.mean()))\n",
    "                    \n",
    "                    # DDQN으로 추가된 부분 2에피소드마다 한번씩 Target Q-Network을 Main Q-Network와 맞춰줌\n",
    "                    if(episode % 2 == 0):\n",
    "                        self.agent.update_target_q_function()\n",
    "                    break\n",
    "                             \n",
    "            if episode_final is True:\n",
    "                break\n",
    "\n",
    "            # 10 에피소드 연속으로 195단계를 버티면 태스크 성공\n",
    "            if complete_episodes >= 10:\n",
    "                print('10 에피소드 연속 성공')\n",
    "                episode_final = True  # 다음 에피소드에서 애니메이션을 생성"
   ]
  },
  {
   "cell_type": "code",
   "execution_count": 24,
   "metadata": {},
   "outputs": [
    {
     "name": "stdout",
     "output_type": "stream",
     "text": [
      "Net(\n",
      "  (fc1): Linear(in_features=4, out_features=32, bias=True)\n",
      "  (fc2): Linear(in_features=32, out_features=32, bias=True)\n",
      "  (fc3): Linear(in_features=32, out_features=2, bias=True)\n",
      ")\n"
     ]
    },
    {
     "ename": "TypeError",
     "evalue": "expected np.ndarray (got tuple)",
     "output_type": "error",
     "traceback": [
      "\u001b[1;31m---------------------------------------------------------------------------\u001b[0m",
      "\u001b[1;31mTypeError\u001b[0m                                 Traceback (most recent call last)",
      "\u001b[1;32m<ipython-input-24-301b0b9439fe>\u001b[0m in \u001b[0;36m<module>\u001b[1;34m\u001b[0m\n\u001b[0;32m      1\u001b[0m \u001b[1;31m# 실행 엔트리 포인트\u001b[0m\u001b[1;33m\u001b[0m\u001b[1;33m\u001b[0m\u001b[1;33m\u001b[0m\u001b[0m\n\u001b[0;32m      2\u001b[0m \u001b[0mcartpole_env\u001b[0m \u001b[1;33m=\u001b[0m \u001b[0mEnvironment\u001b[0m\u001b[1;33m(\u001b[0m\u001b[1;33m)\u001b[0m\u001b[1;33m\u001b[0m\u001b[1;33m\u001b[0m\u001b[0m\n\u001b[1;32m----> 3\u001b[1;33m \u001b[0mcartpole_env\u001b[0m\u001b[1;33m.\u001b[0m\u001b[0mrun\u001b[0m\u001b[1;33m(\u001b[0m\u001b[1;33m)\u001b[0m\u001b[1;33m\u001b[0m\u001b[1;33m\u001b[0m\u001b[0m\n\u001b[0m",
      "\u001b[1;32m<ipython-input-23-a82f134cbbaf>\u001b[0m in \u001b[0;36mrun\u001b[1;34m(self)\u001b[0m\n\u001b[0;32m     18\u001b[0m \u001b[1;33m\u001b[0m\u001b[0m\n\u001b[0;32m     19\u001b[0m             \u001b[0mstate\u001b[0m \u001b[1;33m=\u001b[0m \u001b[0mobservation\u001b[0m  \u001b[1;31m# 관측을 변환없이 그대로 상태 s로 사용\u001b[0m\u001b[1;33m\u001b[0m\u001b[1;33m\u001b[0m\u001b[0m\n\u001b[1;32m---> 20\u001b[1;33m             \u001b[0mstate\u001b[0m \u001b[1;33m=\u001b[0m \u001b[0mtorch\u001b[0m\u001b[1;33m.\u001b[0m\u001b[0mfrom_numpy\u001b[0m\u001b[1;33m(\u001b[0m\u001b[0mstate\u001b[0m\u001b[1;33m)\u001b[0m\u001b[1;33m.\u001b[0m\u001b[0mtype\u001b[0m\u001b[1;33m(\u001b[0m\u001b[0mtorch\u001b[0m\u001b[1;33m.\u001b[0m\u001b[0mFloatTensor\u001b[0m\u001b[1;33m)\u001b[0m  \u001b[1;31m# NumPy 변수를 파이토치 텐서로 변환\u001b[0m\u001b[1;33m\u001b[0m\u001b[1;33m\u001b[0m\u001b[0m\n\u001b[0m\u001b[0;32m     21\u001b[0m             \u001b[0mstate\u001b[0m \u001b[1;33m=\u001b[0m \u001b[0mtorch\u001b[0m\u001b[1;33m.\u001b[0m\u001b[0munsqueeze\u001b[0m\u001b[1;33m(\u001b[0m\u001b[0mstate\u001b[0m\u001b[1;33m,\u001b[0m \u001b[1;36m0\u001b[0m\u001b[1;33m)\u001b[0m  \u001b[1;31m# size 4를 size 1*4로 변환\u001b[0m\u001b[1;33m\u001b[0m\u001b[1;33m\u001b[0m\u001b[0m\n\u001b[0;32m     22\u001b[0m \u001b[1;33m\u001b[0m\u001b[0m\n",
      "\u001b[1;31mTypeError\u001b[0m: expected np.ndarray (got tuple)"
     ]
    }
   ],
   "source": [
    "# 실행 엔트리 포인트\n",
    "cartpole_env = Environment()\n",
    "cartpole_env.run()"
   ]
  }
 ],
 "metadata": {
  "kernelspec": {
   "display_name": "rl_env",
   "language": "python",
   "name": "python3"
  },
  "language_info": {
   "codemirror_mode": {
    "name": "ipython",
    "version": 3
   },
   "file_extension": ".py",
   "mimetype": "text/x-python",
   "name": "python",
   "nbconvert_exporter": "python",
   "pygments_lexer": "ipython3",
   "version": "3.6.13"
  },
  "orig_nbformat": 4,
  "vscode": {
   "interpreter": {
    "hash": "3cb6f83232b08b9be607b4479da9f62f5f93ddce4d1dd6d78905892566feaeac"
   }
  }
 },
 "nbformat": 4,
 "nbformat_minor": 2
}
